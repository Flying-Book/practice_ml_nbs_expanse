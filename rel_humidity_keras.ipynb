{
 "cells": [
  {
   "cell_type": "code",
   "execution_count": null,
   "metadata": {},
   "outputs": [],
   "source": [
    "# import numpy as np\n",
    "# import pandas as pd\n",
    "# from sklearn.model_selection import train_test_split\n",
    "# from sklearn.preprocessing import StandardScaler\n",
    "# from sklearn.metrics import mean_squared_error\n",
    "# from tensorflow.keras.models import Sequential\n",
    "# from tensorflow.keras.layers import Dense\n",
    "# from datetime import datetime\n",
    "\n",
    "\n",
    "# # Start timing\n",
    "# start_time = datetime.now()\n",
    "\n",
    "# # Load the dataset\n",
    "# file_path = '/kaggle/input/fitness-tracker-dataset/fitness_tracker_dataset.csv'\n",
    "# df = pd.read_csv(file_path)\n",
    "# print(\"Pre-reqs completed\")\n",
    "\n",
    "# # Drop specified columns\n",
    "# columns_to_drop = ['date', 'workout_type', 'weather_conditions', 'location', 'mood']\n",
    "# df = df.drop(columns=columns_to_drop)\n",
    "# print(\"Columns dropped\")\n",
    "\n",
    "# # Define features and target variable\n",
    "# features = ['user_id', 'steps', 'distance_km', 'active_minutes', 'sleep_hours', 'heart_rate_avg']\n",
    "# target = 'calories_burned'\n",
    "\n",
    "# df = df.dropna()\n",
    "# X = df[features]\n",
    "# y = df[target]\n",
    "\n",
    "# # Split the dataset\n",
    "# X_train, X_test, y_train, y_test = train_test_split(X, y, test_size=0.2, random_state=42)\n",
    "# print(\"Dataset Split\")\n",
    "\n",
    "# # Standardize features\n",
    "# scaler = StandardScaler()\n",
    "# X_train_scaled = scaler.fit_transform(X_train)\n",
    "# X_test_scaled = scaler.transform(X_test)\n",
    "\n",
    "# # Build the neural network\n",
    "# model = Sequential()\n",
    "# model.add(Dense(64, input_dim=X_train_scaled.shape[1], activation='relu'))\n",
    "# model.add(Dense(32, activation='relu'))\n",
    "# model.add(Dense(1))  # Output layer for regression (no activation function)\n",
    "# print(\"Nueral Network Built\")\n",
    "# # Compile the model\n",
    "# model.compile(optimizer='adam', loss='mean_squared_error')\n",
    "\n",
    "# # Train the model\n",
    "# model.fit(X_train_scaled, y_train, epochs=50, batch_size=32, verbose=1)\n",
    "# Print(\"Model Trained\")\n",
    "\n",
    "# # Make predictions\n",
    "# y_pred = model.predict(X_test_scaled)\n",
    "\n",
    "# # Evaluate the model\n",
    "# mse = mean_squared_error(y_test, y_pred)\n",
    "# print(f'Mean Squared Error: {mse}')\n",
    "\n",
    "# # End timing\n",
    "# end_time = datetime.now()\n",
    "# print('Duration: {}'.format(end_time - start_time))\n"
   ]
  },
  {
   "cell_type": "code",
   "execution_count": null,
   "metadata": {},
   "outputs": [],
   "source": [
    "import numpy as np\n",
    "import pandas as pd\n",
    "from sklearn.model_selection import train_test_split\n",
    "from sklearn.preprocessing import StandardScaler\n",
    "from sklearn.metrics import mean_squared_error\n",
    "from tensorflow.keras.models import Sequential\n",
    "from tensorflow.keras.layers import Dense\n",
    "from datetime import datetime\n",
    "\n",
    "\n",
    "# Start timing\n",
    "start_time = datetime.now()\n",
    "\n",
    "# Load the dataset\n",
    "file_path = 'ancona_data.csv'\n",
    "df = pd.read_csv(file_path)\n",
    "print(\"Pre-reqs completed\")"
   ]
  },
  {
   "cell_type": "code",
   "execution_count": null,
   "metadata": {},
   "outputs": [],
   "source": [
    "columns_to_drop = ['date', 'workout_type', 'weather_conditions', 'location', 'mood']\n",
    "df = df.drop(columns=columns_to_drop)\n",
    "print(\"Columns dropped\")"
   ]
  },
  {
   "cell_type": "code",
   "execution_count": null,
   "metadata": {},
   "outputs": [],
   "source": [
    "# Define features and target variable\n",
    "features = ['user_id', 'steps', 'distance_km', 'active_minutes', 'sleep_hours', 'heart_rate_avg']\n",
    "target = 'calories_burned'\n",
    "\n",
    "df = df.dropna()\n",
    "X = df[features]\n",
    "y = df[target]\n",
    "\n",
    "# Split the dataset\n",
    "X_train, X_test, y_train, y_test = train_test_split(X, y, test_size=0.2, random_state=42)\n",
    "print(\"Dataset Split\")"
   ]
  },
  {
   "cell_type": "code",
   "execution_count": null,
   "metadata": {},
   "outputs": [],
   "source": [
    "# Standardize features\n",
    "scaler = StandardScaler()\n",
    "X_train_scaled = scaler.fit_transform(X_train)\n",
    "X_test_scaled = scaler.transform(X_test)\n",
    "\n",
    "# Build the neural network\n",
    "model = Sequential()\n",
    "model.add(Dense(64, input_dim=X_train_scaled.shape[1], activation='relu'))\n",
    "model.add(Dense(32, activation='relu'))\n",
    "model.add(Dense(1))  # Output layer for regression (no activation function)\n",
    "print(\"Nueral Network Built\")"
   ]
  },
  {
   "cell_type": "code",
   "execution_count": null,
   "metadata": {},
   "outputs": [],
   "source": [
    "# Compile the model\n",
    "model.compile(optimizer='adam', loss='mean_squared_error')\n",
    "\n",
    "# Train the model\n",
    "model.fit(X_train_scaled, y_train, epochs=50, batch_size=32, verbose=1)\n",
    "Print(\"Model Trained\")\n"
   ]
  },
  {
   "cell_type": "code",
   "execution_count": null,
   "metadata": {},
   "outputs": [],
   "source": [
    "y_pred = model.predict(X_test_scaled)\n",
    "\n",
    "# Evaluate the model\n",
    "mse = mean_squared_error(y_test, y_pred)\n",
    "print(f'Mean Squared Error: {mse}')\n",
    "\n",
    "# End timing\n",
    "end_time = datetime.now()\n",
    "print('Duration: {}'.format(end_time - start_time))"
   ]
  }
 ],
 "metadata": {
  "language_info": {
   "name": "python"
  }
 },
 "nbformat": 4,
 "nbformat_minor": 2
}
